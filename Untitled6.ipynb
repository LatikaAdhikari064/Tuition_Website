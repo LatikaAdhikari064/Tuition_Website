{
 "cells": [
  {
   "cell_type": "code",
   "execution_count": null,
   "id": "1a5d0e46-4fd7-4b86-9ab7-481aae08b7d6",
   "metadata": {},
   "outputs": [],
   "source": [
    "import matplotlib.pyplot as plt\n",
    "import numpy as np\n",
    "\n",
    "# Circle\n",
    "theta = np.linspace(0, 2 * np.pi, 100)\n",
    "x_circle = np.cos(theta)\n",
    "y_circle = np.sin(theta)\n",
    "\n",
    "# Square\n",
    "x_square = [-1, 1, 1, -1, -1]\n",
    "y_square = [-1, -1, 1, 1, -1]\n",
    "\n",
    "# Plot both\n",
    "plt.figure(figsize=(6, 6))\n",
    "plt.plot(x_circle, y_circle, label='Circle', color='blue')\n",
    "plt.plot(x_square, y_square, label='Square', color='red')\n",
    "plt.axis('equal')  # Equal scaling for x and y axes\n",
    "plt.legend()\n",
    "plt.title(\"Mathematical Shapes\")\n",
    "plt.savefig('shapes.png')  # Save as an image\n",
    "plt.show()\n"
   ]
  }
 ],
 "metadata": {
  "kernelspec": {
   "display_name": "Python 3 (ipykernel)",
   "language": "python",
   "name": "python3"
  },
  "language_info": {
   "codemirror_mode": {
    "name": "ipython",
    "version": 3
   },
   "file_extension": ".py",
   "mimetype": "text/x-python",
   "name": "python",
   "nbconvert_exporter": "python",
   "pygments_lexer": "ipython3",
   "version": "3.12.4"
  }
 },
 "nbformat": 4,
 "nbformat_minor": 5
}
